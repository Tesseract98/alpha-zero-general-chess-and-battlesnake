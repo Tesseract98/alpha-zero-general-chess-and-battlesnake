{
 "cells": [
  {
   "cell_type": "code",
   "execution_count": null,
   "metadata": {},
   "outputs": [],
   "source": [
    "# from google.colab import drive\n",
    "# drive.mount('/content/drive')"
   ]
  },
  {
   "cell_type": "code",
   "execution_count": null,
   "metadata": {},
   "outputs": [],
   "source": [
    "# import sys\n",
    "# sys.path.insert(0, '/content/drive/MyDrive/alpha-zero-general-chess-and-battlesnake')"
   ]
  },
  {
   "cell_type": "code",
   "execution_count": null,
   "metadata": {},
   "outputs": [],
   "source": [
    "# pip install tensorflow==1.14.0"
   ]
  },
  {
   "cell_type": "code",
   "execution_count": null,
   "metadata": {},
   "outputs": [],
   "source": [
    "import sys\n",
    "import threading\n",
    "\n",
    "from Coach import Coach\n",
    "from chesspy.ChessGame import ChessGame as Game\n",
    "# from chesspy.pytorch.NNet import NNetWrapper as nn\n",
    "from chesspy.tensorflow.NNet import NNetWrapper as nn\n",
    "from utils import dotdict"
   ]
  },
  {
   "cell_type": "code",
   "execution_count": null,
   "metadata": {},
   "outputs": [],
   "source": [
    "args = dotdict({\n",
    "    'numIters': 10,\n",
    "    'numEps': 11,  # Number of complete self-play games to simulate during a new iteration.\n",
    "    'tempThreshold': 50,  #\n",
    "    'updateThreshold': 0.3, # During arena playoff, new neural net will be accepted if threshold or more of games are won.\n",
    "    'maxlenOfQueue': 1024,  # Number of game examples to train the neural networks.\n",
    "    'numMCTSSims': 15,  # Number of games moves for MCTS to simulate.\n",
    "    'arenaCompare': 4,  # Number of games to play during arena play to determine if new net will be accepted.\n",
    "    'cpuct': 1,\n",
    "    'checkpoint': './training/',\n",
    "    'load_model': False,\n",
    "    'load_folder_file': ('./training/model', 'best.pth.tar'),\n",
    "    'numItersForTrainExamplesHistory': 5,\n",
    "})"
   ]
  },
  {
   "cell_type": "code",
   "execution_count": null,
   "metadata": {},
   "outputs": [],
   "source": [
    "sys.setrecursionlimit(5000)\n",
    "threading.stack_size(50000)\n",
    "\n",
    "my_game = Game()\n",
    "nnet = nn(my_game)\n",
    "\n",
    "if args.load_model:\n",
    "    nnet.load_checkpoint(args.load_folder_file[0], args.load_folder_file[1])\n",
    "\n",
    "c = Coach(my_game, nnet, args)\n",
    "if args.load_model:\n",
    "    print(\"Load trainExamples from file\")\n",
    "    c.loadTrainExamples()\n"
   ]
  },
  {
   "cell_type": "code",
   "execution_count": null,
   "metadata": {},
   "outputs": [],
   "source": [
    "thread = threading.Thread(target=c.learn())\n",
    "thread.start()\n",
    "# c.learn()"
   ]
  }
 ],
 "metadata": {
  "kernelspec": {
   "display_name": "Python 3",
   "language": "python",
   "name": "python3"
  },
  "language_info": {
   "codemirror_mode": {
    "name": "ipython",
    "version": 3
   },
   "file_extension": ".py",
   "mimetype": "text/x-python",
   "name": "python",
   "nbconvert_exporter": "python",
   "pygments_lexer": "ipython3",
   "version": "3.8.5"
  }
 },
 "nbformat": 4,
 "nbformat_minor": 4
}
